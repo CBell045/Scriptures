{
 "cells": [
  {
   "cell_type": "code",
   "execution_count": 1,
   "metadata": {},
   "outputs": [],
   "source": [
    "import pandas as pd\n",
    "import requests"
   ]
  },
  {
   "cell_type": "code",
   "execution_count": 3,
   "metadata": {},
   "outputs": [],
   "source": [
    "# Get scriptures in json\n",
    "json = requests.get('https://raw.githubusercontent.com/beandog/lds-scriptures/master/json/lds-scriptures-json.txt').json()"
   ]
  },
  {
   "cell_type": "code",
   "execution_count": 6,
   "metadata": {},
   "outputs": [],
   "source": [
    "# Create a dataframe\n",
    "df = pd.DataFrame(json)"
   ]
  },
  {
   "cell_type": "code",
   "execution_count": 28,
   "metadata": {},
   "outputs": [],
   "source": [
    "# Save dataframe to parquet\n",
    "df.to_parquet('lds-scriptures.parquet')"
   ]
  },
  {
   "cell_type": "code",
   "execution_count": 1,
   "metadata": {},
   "outputs": [],
   "source": [
    "import polars as pl\n",
    "import spacy \n",
    "nlp = spacy.load('en_core_web_md')"
   ]
  },
  {
   "cell_type": "code",
   "execution_count": 16,
   "metadata": {},
   "outputs": [],
   "source": [
    "# Read parquet file\n",
    "scriptures = pl.read_parquet(\"./data/scriptures.parquet\")\n",
    "# scriptures = pl.read_parquet(\"./data/scriptures.parquet\")\\\n",
    "    # .head(1)\\\n",
    "    # .with_columns(\n",
    "    #     pl.col(\"scripture_text\").map_elements(lambda x: nlp(x)).alias(\"vec\")\n",
    "    # )\n"
   ]
  },
  {
   "cell_type": "code",
   "execution_count": 24,
   "metadata": {},
   "outputs": [],
   "source": [
    "import spacy\n",
    "from spacy.tokens import DocBin\n",
    "nlp = spacy.load(\"en_core_web_md\")\n",
    "doc_bin = DocBin()\n",
    "\n",
    "verses = scriptures.select(\"scripture_text\").to_series().to_list()\n",
    "verses = list(nlp.pipe(verses))\n",
    "for i in range(len(verses)):\n",
    "    verses[i] = ' '.join([token.text for token in verses[i] if not token.is_stop and not token.is_punct])\n",
    "\n",
    "verses = nlp.pipe(verses)\n",
    "\n",
    "for doc in verses:\n",
    "    doc_bin.add(doc)\n",
    "bytes_data = doc_bin.to_bytes()"
   ]
  },
  {
   "cell_type": "code",
   "execution_count": 25,
   "metadata": {},
   "outputs": [],
   "source": [
    "# Save the bytes data somewhere\n",
    "with open(\"scriptures2.spacy\", \"wb\") as f:\n",
    "    f.write(bytes_data)\n",
    "\n",
    "# # Deserialize later, e.g. in a new process\n",
    "# nlp = spacy.blank(\"en\")\n",
    "# doc_bin = DocBin().from_bytes(bytes_data)\n",
    "# docs = list(doc_bin.get_docs(nlp.vocab))"
   ]
  },
  {
   "cell_type": "code",
   "execution_count": 26,
   "metadata": {},
   "outputs": [],
   "source": [
    "# Deserialize later, e.g. in a new process\n",
    "bytes_data = open(\"scriptures2.spacy\", \"rb\").read()\n",
    "nlp = spacy.load(\"en_core_web_md\")\n",
    "doc_bin = DocBin().from_bytes(bytes_data)\n",
    "docs = list(doc_bin.get_docs(nlp.vocab))"
   ]
  },
  {
   "cell_type": "code",
   "execution_count": 27,
   "metadata": {},
   "outputs": [
    {
     "ename": "NameError",
     "evalue": "name 'most_similar' is not defined",
     "output_type": "error",
     "traceback": [
      "\u001b[0;31m---------------------------------------------------------------------------\u001b[0m",
      "\u001b[0;31mNameError\u001b[0m                                 Traceback (most recent call last)",
      "Cell \u001b[0;32mIn[27], line 1\u001b[0m\n\u001b[0;32m----> 1\u001b[0m \u001b[43mmost_similar\u001b[49m(docs[\u001b[38;5;241m33831\u001b[39m], docs)\n",
      "\u001b[0;31mNameError\u001b[0m: name 'most_similar' is not defined"
     ]
    }
   ],
   "source": [
    "most_similar(docs[33831], docs)"
   ]
  },
  {
   "cell_type": "code",
   "execution_count": 23,
   "metadata": {},
   "outputs": [
    {
     "data": {
      "text/plain": [
       "[beginning God created heaven earth,\n",
       " earth form void darkness face deep Spirit God moved face waters,\n",
       " God said Let light light,\n",
       " God saw light good God divided light darkness,\n",
       " God called light Day darkness called Night evening morning day,\n",
       " God said Let firmament midst waters let divide waters waters,\n",
       " God firmament divided waters firmament waters firmament,\n",
       " God called firmament Heaven evening morning second day,\n",
       " God said Let waters heaven gathered unto place let dry land appear,\n",
       " God called dry land Earth gathering waters called Seas God saw good]"
      ]
     },
     "execution_count": 23,
     "metadata": {},
     "output_type": "execute_result"
    }
   ],
   "source": [
    "verses = scriptures.select(\"scripture_text\").to_series().to_list()[:10]\n",
    "verses = list(nlp.pipe(verses))\n",
    "for i in range(len(verses)):\n",
    "    verses[i] = ' '.join([token.text for token in verses[i] if not token.is_stop and not token.is_punct])\n",
    "    \n",
    "verses = list(nlp.pipe(verses))\n",
    "verses"
   ]
  },
  {
   "cell_type": "code",
   "execution_count": 80,
   "metadata": {},
   "outputs": [
    {
     "data": {
      "text/html": [
       "<div><style>\n",
       ".dataframe > thead > tr,\n",
       ".dataframe > tbody > tr {\n",
       "  text-align: right;\n",
       "  white-space: pre-wrap;\n",
       "}\n",
       "</style>\n",
       "<small>shape: (5, 2)</small><table border=\"1\" class=\"dataframe\"><thead><tr><th>verse</th><th>similarity</th></tr><tr><td>u32</td><td>f64</td></tr></thead><tbody><tr><td>10</td><td>1.0</td></tr><tr><td>41412</td><td>0.979598</td></tr><tr><td>11</td><td>0.978849</td></tr><tr><td>41810</td><td>0.970631</td></tr><tr><td>41413</td><td>0.956646</td></tr></tbody></table></div>"
      ],
      "text/plain": [
       "shape: (5, 2)\n",
       "┌───────┬────────────┐\n",
       "│ verse ┆ similarity │\n",
       "│ ---   ┆ ---        │\n",
       "│ u32   ┆ f64        │\n",
       "╞═══════╪════════════╡\n",
       "│ 10    ┆ 1.0        │\n",
       "│ 41412 ┆ 0.979598   │\n",
       "│ 11    ┆ 0.978849   │\n",
       "│ 41810 ┆ 0.970631   │\n",
       "│ 41413 ┆ 0.956646   │\n",
       "└───────┴────────────┘"
      ]
     },
     "execution_count": 80,
     "metadata": {},
     "output_type": "execute_result"
    }
   ],
   "source": [
    "# Compute cosine similarity\n",
    "search_verse = verses[10]\n",
    "# for i, doc in enumerate(verses):\n",
    "#     print(i, search_verse.similarity(doc))\n",
    "\n",
    "def most_similar(search_verse, verses, n=5):\n",
    "    similarities = [search_verse.similarity(doc) for doc in verses]\n",
    "    return sorted(enumerate(similarities), key=lambda item: -item[1])[:n]\n",
    "\n",
    "related = most_similar(search_verse, verses)\n",
    "related = pl.DataFrame(related, \n",
    "                       schema={\"verse\": pl.UInt32, \"similarity\": pl.Float64},\n",
    "                       orient=\"row\")\n",
    "related"
   ]
  },
  {
   "cell_type": "code",
   "execution_count": 81,
   "metadata": {},
   "outputs": [
    {
     "data": {
      "text/html": [
       "<div><style>\n",
       ".dataframe > thead > tr,\n",
       ".dataframe > tbody > tr {\n",
       "  text-align: right;\n",
       "  white-space: pre-wrap;\n",
       "}\n",
       "</style>\n",
       "<small>shape: (5, 10)</small><table border=\"1\" class=\"dataframe\"><thead><tr><th>row_nr</th><th>volume_title</th><th>book_title</th><th>book_short_title</th><th>chapter_number</th><th>verse_number</th><th>verse_title</th><th>verse_short_title</th><th>scripture_text</th><th>similarity</th></tr><tr><td>u32</td><td>str</td><td>str</td><td>str</td><td>i64</td><td>i64</td><td>str</td><td>str</td><td>str</td><td>f64</td></tr></thead><tbody><tr><td>10</td><td>&quot;Old Testament&quot;</td><td>&quot;Genesis&quot;</td><td>&quot;Gen.&quot;</td><td>1</td><td>11</td><td>&quot;Genesis 1:11&quot;</td><td>&quot;Gen. 1:11&quot;</td><td>&quot;And God said, …</td><td>1.0</td></tr><tr><td>11</td><td>&quot;Old Testament&quot;</td><td>&quot;Genesis&quot;</td><td>&quot;Gen.&quot;</td><td>1</td><td>12</td><td>&quot;Genesis 1:12&quot;</td><td>&quot;Gen. 1:12&quot;</td><td>&quot;And the earth …</td><td>0.978849</td></tr><tr><td>41412</td><td>&quot;Pearl of Great…</td><td>&quot;Moses&quot;</td><td>&quot;Moses&quot;</td><td>2</td><td>11</td><td>&quot;Moses 2:11&quot;</td><td>&quot;Moses 2:11&quot;</td><td>&quot;And I, God, sa…</td><td>0.979598</td></tr><tr><td>41413</td><td>&quot;Pearl of Great…</td><td>&quot;Moses&quot;</td><td>&quot;Moses&quot;</td><td>2</td><td>12</td><td>&quot;Moses 2:12&quot;</td><td>&quot;Moses 2:12&quot;</td><td>&quot;And the earth …</td><td>0.956646</td></tr><tr><td>41810</td><td>&quot;Pearl of Great…</td><td>&quot;Abraham&quot;</td><td>&quot;Abr.&quot;</td><td>4</td><td>11</td><td>&quot;Abraham 4:11&quot;</td><td>&quot;Abr. 4:11&quot;</td><td>&quot;And the Gods s…</td><td>0.970631</td></tr></tbody></table></div>"
      ],
      "text/plain": [
       "shape: (5, 10)\n",
       "┌────────┬────────────┬────────────┬───────────┬───┬───────────┬───────────┬───────────┬───────────┐\n",
       "│ row_nr ┆ volume_tit ┆ book_title ┆ book_shor ┆ … ┆ verse_tit ┆ verse_sho ┆ scripture ┆ similarit │\n",
       "│ ---    ┆ le         ┆ ---        ┆ t_title   ┆   ┆ le        ┆ rt_title  ┆ _text     ┆ y         │\n",
       "│ u32    ┆ ---        ┆ str        ┆ ---       ┆   ┆ ---       ┆ ---       ┆ ---       ┆ ---       │\n",
       "│        ┆ str        ┆            ┆ str       ┆   ┆ str       ┆ str       ┆ str       ┆ f64       │\n",
       "╞════════╪════════════╪════════════╪═══════════╪═══╪═══════════╪═══════════╪═══════════╪═══════════╡\n",
       "│ 10     ┆ Old        ┆ Genesis    ┆ Gen.      ┆ … ┆ Genesis   ┆ Gen. 1:11 ┆ And God   ┆ 1.0       │\n",
       "│        ┆ Testament  ┆            ┆           ┆   ┆ 1:11      ┆           ┆ said, Let ┆           │\n",
       "│        ┆            ┆            ┆           ┆   ┆           ┆           ┆ the earth ┆           │\n",
       "│        ┆            ┆            ┆           ┆   ┆           ┆           ┆ brin…     ┆           │\n",
       "│ 11     ┆ Old        ┆ Genesis    ┆ Gen.      ┆ … ┆ Genesis   ┆ Gen. 1:12 ┆ And the   ┆ 0.978849  │\n",
       "│        ┆ Testament  ┆            ┆           ┆   ┆ 1:12      ┆           ┆ earth     ┆           │\n",
       "│        ┆            ┆            ┆           ┆   ┆           ┆           ┆ brought   ┆           │\n",
       "│        ┆            ┆            ┆           ┆   ┆           ┆           ┆ forth     ┆           │\n",
       "│        ┆            ┆            ┆           ┆   ┆           ┆           ┆ gras…     ┆           │\n",
       "│ 41412  ┆ Pearl of   ┆ Moses      ┆ Moses     ┆ … ┆ Moses     ┆ Moses     ┆ And I,    ┆ 0.979598  │\n",
       "│        ┆ Great      ┆            ┆           ┆   ┆ 2:11      ┆ 2:11      ┆ God,      ┆           │\n",
       "│        ┆ Price      ┆            ┆           ┆   ┆           ┆           ┆ said: Let ┆           │\n",
       "│        ┆            ┆            ┆           ┆   ┆           ┆           ┆ the earth ┆           │\n",
       "│        ┆            ┆            ┆           ┆   ┆           ┆           ┆ …         ┆           │\n",
       "│ 41413  ┆ Pearl of   ┆ Moses      ┆ Moses     ┆ … ┆ Moses     ┆ Moses     ┆ And the   ┆ 0.956646  │\n",
       "│        ┆ Great      ┆            ┆           ┆   ┆ 2:12      ┆ 2:12      ┆ earth     ┆           │\n",
       "│        ┆ Price      ┆            ┆           ┆   ┆           ┆           ┆ brought   ┆           │\n",
       "│        ┆            ┆            ┆           ┆   ┆           ┆           ┆ forth     ┆           │\n",
       "│        ┆            ┆            ┆           ┆   ┆           ┆           ┆ gras…     ┆           │\n",
       "│ 41810  ┆ Pearl of   ┆ Abraham    ┆ Abr.      ┆ … ┆ Abraham   ┆ Abr. 4:11 ┆ And the   ┆ 0.970631  │\n",
       "│        ┆ Great      ┆            ┆           ┆   ┆ 4:11      ┆           ┆ Gods      ┆           │\n",
       "│        ┆ Price      ┆            ┆           ┆   ┆           ┆           ┆ said: Let ┆           │\n",
       "│        ┆            ┆            ┆           ┆   ┆           ┆           ┆ us        ┆           │\n",
       "│        ┆            ┆            ┆           ┆   ┆           ┆           ┆ prepar…   ┆           │\n",
       "└────────┴────────────┴────────────┴───────────┴───┴───────────┴───────────┴───────────┴───────────┘"
      ]
     },
     "execution_count": 81,
     "metadata": {},
     "output_type": "execute_result"
    }
   ],
   "source": [
    "scriptures.with_row_count().join(related, left_on=\"row_nr\", right_on=\"verse\")"
   ]
  },
  {
   "cell_type": "code",
   "execution_count": 12,
   "metadata": {},
   "outputs": [
    {
     "name": "stdout",
     "output_type": "stream",
     "text": [
      "remembered shew mercy persecuted poor needy man slay broken heart\n"
     ]
    },
    {
     "data": {
      "text/plain": [
       "0.786303613283564"
      ]
     },
     "execution_count": 12,
     "metadata": {},
     "output_type": "execute_result"
    }
   ],
   "source": [
    "x = nlp(\"For God so loved the world, that he gave his only begotten Son, that whosoever believeth in him should not perish, but have everlasting life.\")\n",
    "x = ' '.join([token.text for token in x if not token.is_stop and not token.is_punct])\n",
    "x = nlp(x)\n",
    "y = nlp(\"Because that he remembered not to shew mercy, but persecuted the poor and needy man, that he might even slay the broken in heart.\")\n",
    "y = ' '.join([token.text for token in y if not token.is_stop and not token.is_punct])\n",
    "\n",
    "y = nlp(y)\n",
    "print(y)\n",
    "x.similarity(y)"
   ]
  },
  {
   "cell_type": "code",
   "execution_count": 25,
   "metadata": {},
   "outputs": [
    {
     "name": "stdout",
     "output_type": "stream",
     "text": [
      "shape: (1, 1)\n",
      "┌───────────────────────────────────┐\n",
      "│ vec                               │\n",
      "│ ---                               │\n",
      "│ object                            │\n",
      "╞═══════════════════════════════════╡\n",
      "│ In the beginning God created the… │\n",
      "└───────────────────────────────────┘\n"
     ]
    },
    {
     "ename": "TypeError",
     "evalue": "'NoneType' object is not subscriptable",
     "output_type": "error",
     "traceback": [
      "\u001b[0;31m---------------------------------------------------------------------------\u001b[0m",
      "\u001b[0;31mTypeError\u001b[0m                                 Traceback (most recent call last)",
      "Cell \u001b[0;32mIn[25], line 1\u001b[0m\n\u001b[0;32m----> 1\u001b[0m \u001b[38;5;28;43mprint\u001b[39;49m\u001b[43m(\u001b[49m\u001b[43mscriptures\u001b[49m\u001b[38;5;241;43m.\u001b[39;49m\u001b[43mselect\u001b[49m\u001b[43m(\u001b[49m\u001b[43mpl\u001b[49m\u001b[38;5;241;43m.\u001b[39;49m\u001b[43mcol\u001b[49m\u001b[43m(\u001b[49m\u001b[38;5;124;43m\"\u001b[39;49m\u001b[38;5;124;43mvec\u001b[39;49m\u001b[38;5;124;43m\"\u001b[39;49m\u001b[43m)\u001b[49m\u001b[43m)\u001b[49m\u001b[43m)\u001b[49m\u001b[43m[\u001b[49m\u001b[38;5;241;43m0\u001b[39;49m\u001b[43m,\u001b[49m\u001b[38;5;241;43m0\u001b[39;49m\u001b[43m]\u001b[49m\u001b[38;5;241m.\u001b[39msimilarity([\u001b[38;5;241m0\u001b[39m,\u001b[38;5;241m0\u001b[39m,\u001b[38;5;241m0\u001b[39m,\u001b[38;5;241m0\u001b[39m,\u001b[38;5;241m0\u001b[39m,\u001b[38;5;241m0\u001b[39m,\u001b[38;5;241m0\u001b[39m,\u001b[38;5;241m0\u001b[39m,\u001b[38;5;241m0\u001b[39m,\u001b[38;5;241m0\u001b[39m,\u001b[38;5;241m0\u001b[39m,\u001b[38;5;241m0\u001b[39m,\u001b[38;5;241m0\u001b[39m,\u001b[38;5;241m0\u001b[39m,\u001b[38;5;241m0\u001b[39m])\n",
      "\u001b[0;31mTypeError\u001b[0m: 'NoneType' object is not subscriptable"
     ]
    }
   ],
   "source": [
    "print(scriptures.select(pl.col(\"vec\")))[0,0].similarity([0,0,0,0,0,0,0,0,0,0,0,0,0,0,0])"
   ]
  },
  {
   "cell_type": "code",
   "execution_count": null,
   "metadata": {},
   "outputs": [],
   "source": []
  }
 ],
 "metadata": {
  "kernelspec": {
   "display_name": "Python 3",
   "language": "python",
   "name": "python3"
  },
  "language_info": {
   "codemirror_mode": {
    "name": "ipython",
    "version": 3
   },
   "file_extension": ".py",
   "mimetype": "text/x-python",
   "name": "python",
   "nbconvert_exporter": "python",
   "pygments_lexer": "ipython3",
   "version": "3.11.2"
  }
 },
 "nbformat": 4,
 "nbformat_minor": 2
}
