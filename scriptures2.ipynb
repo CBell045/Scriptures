{
 "cells": [
  {
   "cell_type": "code",
   "execution_count": 1,
   "metadata": {},
   "outputs": [],
   "source": [
    "import polars as pl\n",
    "import spacy \n",
    "from spacy.tokens import DocBin\n",
    "nlp = spacy.load('en_core_web_md')"
   ]
  },
  {
   "cell_type": "code",
   "execution_count": 2,
   "metadata": {},
   "outputs": [],
   "source": [
    "# Read parquet file\n",
    "scriptures = pl.read_parquet(\"./data/scriptures.parquet\")"
   ]
  },
  {
   "cell_type": "code",
   "execution_count": 24,
   "metadata": {},
   "outputs": [],
   "source": [
    "doc_bin = DocBin()\n",
    "\n",
    "verses = scriptures.select(\"scripture_text\").to_series().to_list()\n",
    "verses = list(nlp.pipe(verses))\n",
    "for i in range(len(verses)):\n",
    "    verses[i] = ' '.join([token.text for token in verses[i] if not token.is_stop and not token.is_punct])\n",
    "\n",
    "verses = nlp.pipe(verses)\n",
    "\n",
    "for doc in verses:\n",
    "    doc_bin.add(doc)\n",
    "bytes_data = doc_bin.to_bytes()"
   ]
  },
  {
   "cell_type": "code",
   "execution_count": 25,
   "metadata": {},
   "outputs": [],
   "source": [
    "# Save the bytes data somewhere\n",
    "with open(\"scriptures2.spacy\", \"wb\") as f:\n",
    "    f.write(bytes_data)"
   ]
  },
  {
   "cell_type": "code",
   "execution_count": 3,
   "metadata": {},
   "outputs": [],
   "source": [
    "# Deserialize later, e.g. in a new process\n",
    "bytes_data = open(\"scriptures2.spacy\", \"rb\").read()\n",
    "nlp = spacy.load(\"en_core_web_md\")\n",
    "doc_bin = DocBin().from_bytes(bytes_data)\n",
    "docs = list(doc_bin.get_docs(nlp.vocab))"
   ]
  },
  {
   "cell_type": "code",
   "execution_count": 8,
   "metadata": {},
   "outputs": [
    {
     "name": "stdout",
     "output_type": "stream",
     "text": [
      "0\n",
      "1\n",
      "2\n",
      "3\n",
      "4\n"
     ]
    }
   ],
   "source": [
    "# # Create a matrix with every verse and its similarity to every other verse\n",
    "# docs = docs[:5]\n",
    "# import numpy as np\n",
    "# len_docs = len(docs)\n",
    "# similarity_matrix = np.zeros((len_docs, len_docs))\n",
    "# for i in range(len_docs):\n",
    "#     print(i)\n",
    "#     for j in range(i, len_docs):\n",
    "#         similarity_matrix[i][j] = docs[i].similarity(docs[j])"
   ]
  }
 ],
 "metadata": {
  "kernelspec": {
   "display_name": "Python 3",
   "language": "python",
   "name": "python3"
  },
  "language_info": {
   "codemirror_mode": {
    "name": "ipython",
    "version": 3
   },
   "file_extension": ".py",
   "mimetype": "text/x-python",
   "name": "python",
   "nbconvert_exporter": "python",
   "pygments_lexer": "ipython3",
   "version": "3.12.1"
  }
 },
 "nbformat": 4,
 "nbformat_minor": 2
}
